{
 "cells": [
  {
   "cell_type": "code",
   "execution_count": 1,
   "metadata": {},
   "outputs": [
    {
     "name": "stdout",
     "output_type": "stream",
     "text": [
      "       *\n",
      "      *0*\n",
      "     *000*\n",
      "    *00000*\n",
      "   *0000000*\n",
      "  *000000000*\n",
      " *00000000000*\n"
     ]
    }
   ],
   "source": [
    "n=6\n",
    "print((n+1)*' '+'*')\n",
    "for p in range(n):\n",
    "    \n",
    "    for g in range(0,n-p):\n",
    "        print(' ',end='') \n",
    "    for t in range(1):\n",
    "        print('*',end='')\n",
    "    for j in range(0,2*p+1):\n",
    "        print('0',end='') \n",
    "    print('*') \n",
    "    "
   ]
  },
  {
   "cell_type": "code",
   "execution_count": null,
   "metadata": {
    "collapsed": true
   },
   "outputs": [],
   "source": []
  }
 ],
 "metadata": {
  "kernelspec": {
   "display_name": "Python 3",
   "language": "python",
   "name": "python3"
  },
  "language_info": {
   "codemirror_mode": {
    "name": "ipython",
    "version": 3
   },
   "file_extension": ".py",
   "mimetype": "text/x-python",
   "name": "python",
   "nbconvert_exporter": "python",
   "pygments_lexer": "ipython3",
   "version": "3.6.3"
  }
 },
 "nbformat": 4,
 "nbformat_minor": 2
}
